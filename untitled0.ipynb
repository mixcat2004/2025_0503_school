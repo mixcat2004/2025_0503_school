{
  "nbformat": 4,
  "nbformat_minor": 0,
  "metadata": {
    "colab": {
      "provenance": [],
      "authorship_tag": "ABX9TyNPqO+ZG/0V7dPOZMrA8b11",
      "include_colab_link": true
    },
    "kernelspec": {
      "name": "python3",
      "display_name": "Python 3"
    },
    "language_info": {
      "name": "python"
    }
  },
  "cells": [
    {
      "cell_type": "markdown",
      "metadata": {
        "id": "view-in-github",
        "colab_type": "text"
      },
      "source": [
        "<a href=\"https://colab.research.google.com/github/mixcat2004/2025_0503_school/blob/main/untitled0.ipynb\" target=\"_parent\"><img src=\"https://colab.research.google.com/assets/colab-badge.svg\" alt=\"Open In Colab\"/></a>"
      ]
    },
    {
      "cell_type": "markdown",
      "source": [
        "#註記123\n",
        "##註記456"
      ],
      "metadata": {
        "id": "hmO739nHQVSf"
      }
    },
    {
      "cell_type": "code",
      "execution_count": null,
      "metadata": {
        "id": "PZbOX_z1ClwN",
        "colab": {
          "base_uri": "https://localhost:8080/"
        },
        "outputId": "794d370a-51f9-4069-dfda-a2bb6c096c91"
      },
      "outputs": [
        {
          "output_type": "stream",
          "name": "stdout",
          "text": [
            "hello python\n"
          ]
        }
      ],
      "source": [
        "print(\"hello python\")"
      ]
    },
    {
      "cell_type": "code",
      "source": [],
      "metadata": {
        "id": "lNCzwIjd1xUg"
      },
      "execution_count": null,
      "outputs": []
    },
    {
      "cell_type": "code",
      "source": [
        "n=1+1*2+(2+3)**2\n",
        "n"
      ],
      "metadata": {
        "colab": {
          "base_uri": "https://localhost:8080/"
        },
        "id": "Gkdb3rej1hNH",
        "outputId": "e15b929a-467d-4931-f384-068ea118bda1"
      },
      "execution_count": 24,
      "outputs": [
        {
          "output_type": "execute_result",
          "data": {
            "text/plain": [
              "28"
            ]
          },
          "metadata": {},
          "execution_count": 24
        }
      ]
    },
    {
      "cell_type": "markdown",
      "source": [
        "#程式結構\n",
        "#複合指定運算子\n"
      ],
      "metadata": {
        "id": "NaXxJ23V19Nh"
      }
    },
    {
      "cell_type": "code",
      "source": [
        "n=2+2*3+(1+2)**2\n",
        "n+=10\n",
        "n"
      ],
      "metadata": {
        "colab": {
          "base_uri": "https://localhost:8080/"
        },
        "id": "zCZl75_j3ScR",
        "outputId": "8c96b588-d386-47bd-c89f-19124525b652"
      },
      "execution_count": 28,
      "outputs": [
        {
          "output_type": "execute_result",
          "data": {
            "text/plain": [
              "27"
            ]
          },
          "metadata": {},
          "execution_count": 28
        }
      ]
    },
    {
      "cell_type": "markdown",
      "source": [
        "#內建function函示\n",
        "#input()使用"
      ],
      "metadata": {
        "id": "JBTtvroQ6TUe"
      }
    },
    {
      "cell_type": "markdown",
      "source": [],
      "metadata": {
        "id": "XStFCo7N7jpA"
      }
    },
    {
      "cell_type": "code",
      "source": [
        "name=input(\"輸入姓名:\")\n",
        "print(name,\"你好\")\n"
      ],
      "metadata": {
        "id": "VrB39zi-7eGl",
        "outputId": "5e2f496b-a8e8-4994-fbde-0d1bb05b6738",
        "colab": {
          "base_uri": "https://localhost:8080/"
        }
      },
      "execution_count": 35,
      "outputs": [
        {
          "output_type": "stream",
          "name": "stdout",
          "text": [
            "輸入姓名:kika\n",
            "kika 你好\n"
          ]
        }
      ]
    }
  ]
}