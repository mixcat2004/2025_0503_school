{
  "nbformat": 4,
  "nbformat_minor": 0,
  "metadata": {
    "colab": {
      "provenance": [],
      "authorship_tag": "ABX9TyPGMxyH15d09puBHLhApq4X",
      "include_colab_link": true
    },
    "kernelspec": {
      "name": "python3",
      "display_name": "Python 3"
    },
    "language_info": {
      "name": "python"
    }
  },
  "cells": [
    {
      "cell_type": "markdown",
      "metadata": {
        "id": "view-in-github",
        "colab_type": "text"
      },
      "source": [
        "<a href=\"https://colab.research.google.com/github/mixcat2004/2025_0503_school/blob/main/untitled0.ipynb\" target=\"_parent\"><img src=\"https://colab.research.google.com/assets/colab-badge.svg\" alt=\"Open In Colab\"/></a>"
      ]
    },
    {
      "cell_type": "markdown",
      "source": [
        "#2025 05 10 上課用"
      ],
      "metadata": {
        "id": "Nz95BlNzxy1A"
      }
    },
    {
      "cell_type": "markdown",
      "source": [
        ">學習程式\n",
        "\n",
        "1數學運算\n",
        "\n",
        "2流程控制"
      ],
      "metadata": {
        "id": "b7WtiHfKx-wg"
      }
    },
    {
      "cell_type": "markdown",
      "source": [
        "#python的比較運算子\n",
        ">Python的比較運算子用來比較兩個值，並回傳布林值（True 或 False）。Python 支援以下主要的比較運算子：\n",
        "\n",
        "1.  < ：小於\n",
        "\n",
        "2.. <= ：小於等於\n",
        "\n",
        "3.  > ：大於\n",
        "\n",
        "4.  >= ：大於等於\n",
        "\n",
        "5.  == ：等於\n",
        "\n",
        "6.  != ：不等於\n",
        "\n",
        "7.  is ：判斷兩個物件是否為同一個物件（物件識別）\n",
        "\n",
        "8.  is not ：判斷兩個物件是否不是同一個物件"
      ],
      "metadata": {
        "id": "fu_jp0Av0qE9"
      }
    },
    {
      "cell_type": "code",
      "source": [
        "5==5\n",
        "5!=5\n",
        "5 is 5.0\n",
        "5 is not 5.0"
      ],
      "metadata": {
        "colab": {
          "base_uri": "https://localhost:8080/"
        },
        "id": "DiVFLWaa3I1j",
        "outputId": "22fcab06-d806-4164-965c-a2bb4ca54f12"
      },
      "execution_count": null,
      "outputs": [
        {
          "output_type": "stream",
          "name": "stderr",
          "text": [
            "<>:3: SyntaxWarning: \"is\" with a literal. Did you mean \"==\"?\n",
            "<>:4: SyntaxWarning: \"is not\" with a literal. Did you mean \"!=\"?\n",
            "<>:3: SyntaxWarning: \"is\" with a literal. Did you mean \"==\"?\n",
            "<>:4: SyntaxWarning: \"is not\" with a literal. Did you mean \"!=\"?\n",
            "<ipython-input-8-261db3562ab9>:3: SyntaxWarning: \"is\" with a literal. Did you mean \"==\"?\n",
            "  5 is 5.0\n",
            "<ipython-input-8-261db3562ab9>:4: SyntaxWarning: \"is not\" with a literal. Did you mean \"!=\"?\n",
            "  5 is not 5.0\n"
          ]
        },
        {
          "output_type": "execute_result",
          "data": {
            "text/plain": [
              "True"
            ]
          },
          "metadata": {},
          "execution_count": 8
        }
      ]
    },
    {
      "cell_type": "markdown",
      "source": [
        "#python條件式\n",
        "-單項式\n",
        "\n",
        "-雙向氏\n",
        "##給我\n",
        "-說明\n",
        "\n",
        "-小範例"
      ],
      "metadata": {
        "id": "wHL2WzIR510f"
      }
    },
    {
      "cell_type": "code",
      "source": [
        "#雙項\n",
        "雙項式條件式\n",
        "語法：\n",
        "\n",
        "if 條件:\n",
        "    條件成立時執行的程式區塊\n",
        "else:\n",
        "    條件不成立時執行的程式區塊\n",
        "說明：\n",
        "雙項式條件式有兩個分支，當條件為True時執行if區塊，條件為False時執行else區塊，確保程式必定執行其中一個區塊。\n",
        "\n",
        "\n",
        "#單項\n",
        "單項式條件式\n",
        "語法：\n",
        "\n",
        "if 條件:\n",
        "    執行程式區塊\n",
        "說明：\n",
        "單項式條件式指的是只有一個判斷條件，當條件成立（True）時，執行縮排的程式區塊，否則不執行任何動作（無else部分）。這是最簡單的條件判斷。"
      ],
      "metadata": {
        "id": "GcYZiJGw7uM9"
      },
      "execution_count": null,
      "outputs": []
    },
    {
      "cell_type": "code",
      "source": [
        "score=65\n",
        "if score>=60:\n",
        "  print(\"good job\")\n",
        "else:\n",
        "  print(\"u false\")\n"
      ],
      "metadata": {
        "colab": {
          "base_uri": "https://localhost:8080/"
        },
        "id": "kPVvCsw48Pcc",
        "outputId": "34e12f99-6c9e-48d2-9d4f-97324f482394"
      },
      "execution_count": null,
      "outputs": [
        {
          "output_type": "stream",
          "name": "stdout",
          "text": [
            "good job\n"
          ]
        }
      ]
    },
    {
      "cell_type": "code",
      "source": [
        "score=65\n",
        "if score>=60:\n",
        "  print(\"good job\")\n",
        "print(\"process end\")"
      ],
      "metadata": {
        "colab": {
          "base_uri": "https://localhost:8080/"
        },
        "id": "tPAyf-Mv851B",
        "outputId": "d514cd70-ee89-4d25-dac2-947aa09ac27c"
      },
      "execution_count": null,
      "outputs": [
        {
          "output_type": "stream",
          "name": "stdout",
          "text": [
            "good job\n",
            "process end\n"
          ]
        }
      ]
    },
    {
      "cell_type": "code",
      "source": [
        "#巢狀判斷\n"
      ],
      "metadata": {
        "id": "16QLza7uA-LR"
      },
      "execution_count": null,
      "outputs": []
    },
    {
      "cell_type": "code",
      "source": [
        "score=65\n",
        "if score>=80:\n",
        "  print(\"甲\")\n",
        "else:\n",
        "  if score<60:\n",
        "    print(\"不及格\")\n",
        "  else:\n",
        "   print(\"乙\")"
      ],
      "metadata": {
        "colab": {
          "base_uri": "https://localhost:8080/"
        },
        "id": "3H7_jtlvBIcm",
        "outputId": "c4be41f4-c1b8-4cba-a3f8-5a5258d48c75"
      },
      "execution_count": null,
      "outputs": [
        {
          "output_type": "stream",
          "name": "stdout",
          "text": [
            "乙\n"
          ]
        }
      ]
    },
    {
      "cell_type": "markdown",
      "source": [
        "#多項功能選擇"
      ],
      "metadata": {
        "id": "_wdUQop1IbNU"
      }
    },
    {
      "cell_type": "code",
      "source": [
        "score=99\n",
        "if score<60:\n",
        "  print(\"不及格\")\n",
        "elif score<70:\n",
        "  print(\"炳\")\n",
        "elif score<80:\n",
        "  print(\"乙\")\n",
        "elif score<90:\n",
        "  print(\"甲\")\n",
        "else:\n",
        "  print(\"優\")"
      ],
      "metadata": {
        "id": "gOkoqppfIhGF",
        "outputId": "8486bb78-1284-468b-92ef-1ac896906645",
        "colab": {
          "base_uri": "https://localhost:8080/"
        }
      },
      "execution_count": 4,
      "outputs": [
        {
          "output_type": "stream",
          "name": "stdout",
          "text": [
            "優\n"
          ]
        }
      ]
    }
  ]
}