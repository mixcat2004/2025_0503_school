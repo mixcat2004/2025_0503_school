{
  "nbformat": 4,
  "nbformat_minor": 0,
  "metadata": {
    "colab": {
      "provenance": [],
      "authorship_tag": "ABX9TyObtcIocWhnuPc1XFoWnIIv",
      "include_colab_link": true
    },
    "kernelspec": {
      "name": "python3",
      "display_name": "Python 3"
    },
    "language_info": {
      "name": "python"
    }
  },
  "cells": [
    {
      "cell_type": "markdown",
      "metadata": {
        "id": "view-in-github",
        "colab_type": "text"
      },
      "source": [
        "<a href=\"https://colab.research.google.com/github/mixcat2004/2025_0503_school/blob/main/untitled0.ipynb\" target=\"_parent\"><img src=\"https://colab.research.google.com/assets/colab-badge.svg\" alt=\"Open In Colab\"/></a>"
      ]
    },
    {
      "cell_type": "markdown",
      "source": [
        "#註記123\n",
        "##註記456"
      ],
      "metadata": {
        "id": "hmO739nHQVSf"
      }
    },
    {
      "cell_type": "code",
      "execution_count": null,
      "metadata": {
        "id": "PZbOX_z1ClwN",
        "colab": {
          "base_uri": "https://localhost:8080/"
        },
        "outputId": "794d370a-51f9-4069-dfda-a2bb6c096c91"
      },
      "outputs": [
        {
          "output_type": "stream",
          "name": "stdout",
          "text": [
            "hello python\n"
          ]
        }
      ],
      "source": [
        "print(\"hello python\")"
      ]
    },
    {
      "cell_type": "code",
      "source": [],
      "metadata": {
        "id": "lNCzwIjd1xUg"
      },
      "execution_count": null,
      "outputs": []
    },
    {
      "cell_type": "code",
      "source": [
        "n=1+1*2+(2+3)**2\n",
        "n"
      ],
      "metadata": {
        "colab": {
          "base_uri": "https://localhost:8080/"
        },
        "id": "Gkdb3rej1hNH",
        "outputId": "e15b929a-467d-4931-f384-068ea118bda1"
      },
      "execution_count": null,
      "outputs": [
        {
          "output_type": "execute_result",
          "data": {
            "text/plain": [
              "28"
            ]
          },
          "metadata": {},
          "execution_count": 24
        }
      ]
    },
    {
      "cell_type": "markdown",
      "source": [
        "#程式結構\n",
        "#複合指定運算子\n"
      ],
      "metadata": {
        "id": "NaXxJ23V19Nh"
      }
    },
    {
      "cell_type": "code",
      "source": [
        "n=2+2*3+(1+2)**2\n",
        "n+=10\n",
        "n"
      ],
      "metadata": {
        "colab": {
          "base_uri": "https://localhost:8080/"
        },
        "id": "zCZl75_j3ScR",
        "outputId": "8c96b588-d386-47bd-c89f-19124525b652"
      },
      "execution_count": null,
      "outputs": [
        {
          "output_type": "execute_result",
          "data": {
            "text/plain": [
              "27"
            ]
          },
          "metadata": {},
          "execution_count": 28
        }
      ]
    },
    {
      "cell_type": "markdown",
      "source": [
        "#內建function函示\n",
        "#input()使用"
      ],
      "metadata": {
        "id": "JBTtvroQ6TUe"
      }
    },
    {
      "cell_type": "markdown",
      "source": [],
      "metadata": {
        "id": "XStFCo7N7jpA"
      }
    },
    {
      "cell_type": "code",
      "source": [
        "name=input(\"輸入姓名:\")\n",
        "print(name,\"你好\")\n"
      ],
      "metadata": {
        "id": "VrB39zi-7eGl",
        "outputId": "5e2f496b-a8e8-4994-fbde-0d1bb05b6738",
        "colab": {
          "base_uri": "https://localhost:8080/"
        }
      },
      "execution_count": null,
      "outputs": [
        {
          "output_type": "stream",
          "name": "stdout",
          "text": [
            "輸入姓名:kika\n",
            "kika 你好\n"
          ]
        }
      ]
    },
    {
      "cell_type": "markdown",
      "source": [
        "#python動態型別"
      ],
      "metadata": {
        "id": "Mp1y1jZMCBrV"
      }
    },
    {
      "cell_type": "code",
      "source": [
        "name=input(\"輸入姓名\")\n",
        "name\n",
        "name=100\n",
        "name\n",
        "type(name)\n",
        "name=50.0\n",
        "name\n",
        "type(name)"
      ],
      "metadata": {
        "colab": {
          "base_uri": "https://localhost:8080/"
        },
        "id": "glLSUrmsDDRj",
        "outputId": "ddd0b3f8-a1da-480a-87a3-5d12e12fe380"
      },
      "execution_count": 5,
      "outputs": [
        {
          "name": "stdout",
          "output_type": "stream",
          "text": [
            "輸入姓名kika\n"
          ]
        },
        {
          "output_type": "execute_result",
          "data": {
            "text/plain": [
              "float"
            ]
          },
          "metadata": {},
          "execution_count": 5
        }
      ]
    },
    {
      "cell_type": "markdown",
      "source": [
        "#字串可以相加\n",
        "#轉換型別"
      ],
      "metadata": {
        "id": "4xO4v3V-KlHT"
      }
    },
    {
      "cell_type": "code",
      "source": [
        "width=input(\"輸入寬:\")\n",
        "width\n",
        "type(width)\n",
        "width=float(width)\n",
        "type(width)\n",
        "length=input(\"輸入長:\")\n",
        "length=float(length)\n",
        "sql=width*length\n",
        "sql"
      ],
      "metadata": {
        "colab": {
          "base_uri": "https://localhost:8080/"
        },
        "id": "KC-uhUAOKgAX",
        "outputId": "6321e54a-e753-4de2-d1e7-7d7f330744ae"
      },
      "execution_count": 6,
      "outputs": [
        {
          "name": "stdout",
          "output_type": "stream",
          "text": [
            "輸入寬:3\n",
            "輸入長:5\n"
          ]
        },
        {
          "output_type": "execute_result",
          "data": {
            "text/plain": [
              "15.0"
            ]
          },
          "metadata": {},
          "execution_count": 6
        }
      ]
    },
    {
      "cell_type": "code",
      "source": [
        "str1=\"小豬\"\n",
        "str2=\"小貓\"\n",
        "print(\"str1\"+\"str2\")\n",
        "\n",
        "\n"
      ],
      "metadata": {
        "id": "_X9BJ8LjK4h1",
        "outputId": "60575c44-9df1-4e08-e3d8-985a369e36f6",
        "colab": {
          "base_uri": "https://localhost:8080/"
        }
      },
      "execution_count": 14,
      "outputs": [
        {
          "output_type": "stream",
          "name": "stdout",
          "text": [
            "str1str2\n"
          ]
        }
      ]
    },
    {
      "cell_type": "markdown",
      "source": [
        "#標準函式庫 匯入\n"
      ],
      "metadata": {
        "id": "om9P9zAdN_h5"
      }
    },
    {
      "cell_type": "code",
      "source": [
        "import math\n",
        "side1=float(input(\"輸入長邊:\"))\n",
        "side2=float(input(\"輸入短邊:\"))\n",
        "sql=\n"
      ],
      "metadata": {
        "id": "nKRfUpFhOK-J",
        "outputId": "2e68d023-c8cf-4614-832f-ef8d3e3b0f68",
        "colab": {
          "base_uri": "https://localhost:8080/"
        }
      },
      "execution_count": 19,
      "outputs": [
        {
          "name": "stdout",
          "output_type": "stream",
          "text": [
            "輸入長邊:20\n",
            "輸入短邊:30\n"
          ]
        },
        {
          "output_type": "execute_result",
          "data": {
            "text/plain": [
              "160000.0"
            ]
          },
          "metadata": {},
          "execution_count": 19
        }
      ]
    }
  ]
}