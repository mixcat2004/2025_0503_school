#如何呼叫function
def menu(wine:str,entree:str,dessert:str)->None:
    print(f"前酒:{wine}")
    print(f"主餐:{entree}")
    print(f"甜點:{dessert}")

#引數值的呼叫
##要依照參數的順序
menu("白酒","牛排","蛋糕")

#引數名稱的呼叫
##可以不依照順序
menu(entree='牛排',dessert='蛋糕',wine='白酒')

#混合呼叫
#前面使用引數值的呼叫
#後面使用引數名稱的呼叫
#引數名稱後,全部都要用引數名稱
menu('白酒',dessert='蛋糕',entree='牛排')

#定義的function參數,可以有預設值
#預設值一定放在最後
def menu(wine:str,entree:str,dessert:str='奶昔')->None:
    print(f"前酒:{wine}")
    print(f"主餐:{entree}")
    print(f"甜點:{dessert}")

#呼叫時,有預設值的參數,可以省略引數值
menu('白酒','牛排')

menu('白酒','牛排',dessert="蛋糕")

def menu(wine:str,entree:str='雞排',dessert:str='奶昔')->None:
    print(f"前酒:{wine}")
    print(f"主餐:{entree}")
    print(f"甜點:{dessert}")
menu('白酒')

menu('白酒',dessert="蛋糕")

#*參數名稱
#沒有限制數量的引數值的呼叫
def print_args(*args):
    #tuple
    print(args)
print_args(1, 2, 3, 'a','b','c',True, False)
#(1, 2, 3, 'a', 'b', 'c', True, False)

#**參數名稱
#沒有限定數量的引數名稱呼叫
def print_kwargs(**kwargs):
    #dictionary詞典物件
    print(kwargs)
print_kwargs(one=1, two=2, three=3, four=4, five=5)
#{'one': 1, 'two': 2, 'three': 3, 'four': 4, 'five': 5}

def print_all(*args, **kwargs):
    print(args)
    print(kwargs)
print_all(1, 2, 3, 'a', 'b', 'c', True, False,one=1, two=2, three=3, four=4, five=5)
#(1, 2, 3, 'a', 'b', 'c', True, False)
#{'one': 1, 'two': 2, 'three': 3, 'four': 4, 'five': 5}