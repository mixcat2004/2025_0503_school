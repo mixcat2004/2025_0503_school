{
  "nbformat": 4,
  "nbformat_minor": 0,
  "metadata": {
    "colab": {
      "provenance": [],
      "authorship_tag": "ABX9TyMnVGl3I5A0574hOJLMFrAw",
      "include_colab_link": true
    },
    "kernelspec": {
      "name": "python3",
      "display_name": "Python 3"
    },
    "language_info": {
      "name": "python"
    }
  },
  "cells": [
    {
      "cell_type": "markdown",
      "metadata": {
        "id": "view-in-github",
        "colab_type": "text"
      },
      "source": [
        "<a href=\"https://colab.research.google.com/github/mixcat2004/2025_0503_school/blob/main/untitled1.ipynb\" target=\"_parent\"><img src=\"https://colab.research.google.com/assets/colab-badge.svg\" alt=\"Open In Colab\"/></a>"
      ]
    },
    {
      "cell_type": "markdown",
      "source": [
        "#資料結構\n",
        "##資料類型\n",
        ">list 串列資料 squence,[]: 永久的資料\n",
        ">tuple 串列資料 squence,():暫時的資料\n",
        ">dicnatory 辭典dic物件 map {Key,value}"
      ],
      "metadata": {
        "id": "8hMrrpfFtweA"
      }
    },
    {
      "cell_type": "code",
      "execution_count": null,
      "metadata": {
        "id": "FbaKnr1Ts8sO",
        "colab": {
          "base_uri": "https://localhost:8080/"
        },
        "outputId": "4a89cc34-e6f3-4d44-de23-df4ce4c22fb9"
      },
      "outputs": [
        {
          "output_type": "stream",
          "name": "stdout",
          "text": [
            "21\n",
            "323\n",
            "545\n",
            "22\n",
            "11\n"
          ]
        }
      ],
      "source": [
        "for i in [21,323,545,22,11]:\n",
        "  print(i)"
      ]
    },
    {
      "cell_type": "code",
      "source": [
        "for i in (1,2,3,4,5,6,6,7,88,):\n",
        "  print(i)\n"
      ],
      "metadata": {
        "colab": {
          "base_uri": "https://localhost:8080/"
        },
        "id": "H8CcY9QhvqBO",
        "outputId": "68c3cd25-cd6b-4d30-ae60-fccec81e8d2e"
      },
      "execution_count": null,
      "outputs": [
        {
          "output_type": "stream",
          "name": "stdout",
          "text": [
            "1\n",
            "2\n",
            "3\n",
            "4\n",
            "5\n",
            "6\n",
            "6\n",
            "7\n",
            "88\n"
          ]
        }
      ]
    },
    {
      "cell_type": "code",
      "source": [
        "stu1={\"name\":\"eric\",\"chinese\":70, \"english\":60}\n",
        "type (stu1)\n",
        "stu2={\"name\":\"aaa\",\"chinese\":71, \"english\":65}\n",
        "stu3={\"name\":\"bbb\",\"chinese\":72, \"english\":63}\n",
        "type (stu2)\n"
      ],
      "metadata": {
        "colab": {
          "base_uri": "https://localhost:8080/"
        },
        "id": "tMyp7_UlzwKe",
        "outputId": "4acfc00e-fdec-455d-bfbb-214f5ce02f90"
      },
      "execution_count": null,
      "outputs": [
        {
          "output_type": "execute_result",
          "data": {
            "text/plain": [
              "dict"
            ]
          },
          "metadata": {},
          "execution_count": 9
        }
      ]
    },
    {
      "cell_type": "code",
      "source": [
        "stu1={\"name\":\"eric\",\"chinese\":70, \"english\":60}\n",
        "stu2={\"name\":\"aaa\",\"chinese\":71, \"english\":65}\n",
        "stu3={\"name\":\"bbb\",\"chinese\":72, \"english\":63}\n",
        "students=[stu1,stu2,stu3]\n",
        "students"
      ],
      "metadata": {
        "colab": {
          "base_uri": "https://localhost:8080/"
        },
        "id": "yLDrxPUj2NPZ",
        "outputId": "006908d8-c9d9-4c2c-9c25-169d666fc19d"
      },
      "execution_count": null,
      "outputs": [
        {
          "output_type": "execute_result",
          "data": {
            "text/plain": [
              "[{'name': 'eric', 'chinese': 70, 'english': 60},\n",
              " {'name': 'aaa', 'chinese': 71, 'english': 65},\n",
              " {'name': 'bbb', 'chinese': 72, 'english': 63}]"
            ]
          },
          "metadata": {},
          "execution_count": 11
        }
      ]
    },
    {
      "cell_type": "code",
      "source": [
        "stu1={\"name\":\"eric\",\"chinese\":70, \"english\":60}\n",
        "stu2={\"name\":\"aaa\",\"chinese\":71, \"english\":65}\n",
        "stu3={\"name\":\"bbb\",\"chinese\":72, \"english\":63}\n",
        "students=[stu1,stu2,stu3]\n",
        "for student in students:\n",
        "  print(\"姓名\",student[\"name\"])\n",
        "  print(\"國文\",student[\"chinese\"])\n",
        "  print(\"英文\",student[\"english\"])\n",
        "  print(\"=======================\")"
      ],
      "metadata": {
        "colab": {
          "base_uri": "https://localhost:8080/"
        },
        "id": "7ALjROPj3YMq",
        "outputId": "17481e6b-2e09-47f6-eb2f-2fc2d44a5c50"
      },
      "execution_count": null,
      "outputs": [
        {
          "output_type": "stream",
          "name": "stdout",
          "text": [
            "姓名 eric\n",
            "國文 70\n",
            "英文 60\n",
            "=======================\n",
            "姓名 aaa\n",
            "國文 71\n",
            "英文 65\n",
            "=======================\n",
            "姓名 bbb\n",
            "國文 72\n",
            "英文 63\n",
            "=======================\n"
          ]
        }
      ]
    },
    {
      "cell_type": "markdown",
      "source": [
        "# python while 迴圈\n",
        ">for in 迴圈:明確知道執行的次數\n",
        ">for 迴圈主要用於「已知重複次數」或「可迭代物件」的情境，例如串列、字串、集合、字典等\n",
        "\n",
        ">While迴圈:不知道執行次數\n",
        ">while 迴圈會根據條件判斷是否重複執行程式碼。只要條件為 True，迴圈就會持續執行，直到條件變為 False 為止。\n",
        "\n",
        ">使用三步驟\n",
        "一主程式區塊使用在While迴圈的條件式內  建立變數count\n",
        "二比較變數 count <=?\n",
        "三 改變變數 count+=1\n",
        "\n",
        ">while迴圈 兩個關鍵字\n",
        "Break\n",
        "continus\n",
        "\n",
        ">while 布林值:\n",
        "程式區塊\n",
        "\n",
        "\n"
      ],
      "metadata": {
        "id": "114tUnVE8P7V"
      }
    },
    {
      "cell_type": "code",
      "source": [
        "count=0\n",
        "while count<=10:\n",
        "  print(count)\n",
        "  count+=1\n"
      ],
      "metadata": {
        "colab": {
          "base_uri": "https://localhost:8080/"
        },
        "id": "EJ1j3_IgBoA3",
        "outputId": "bd8363a2-08ec-45b7-8342-c67f9a9059ac"
      },
      "execution_count": null,
      "outputs": [
        {
          "output_type": "stream",
          "name": "stdout",
          "text": [
            "0\n",
            "1\n",
            "2\n",
            "3\n",
            "4\n",
            "5\n",
            "6\n",
            "7\n",
            "8\n",
            "9\n",
            "10\n"
          ]
        }
      ]
    },
    {
      "cell_type": "code",
      "source": [
        "total=0\n",
        "wh\n",
        "\n",
        "ile True:\n",
        "  num=int(input(\"輸入數字(輸入0結束):\"))\n",
        "  if num==0:\n",
        "    break\n",
        "  total+=num\n",
        "print(\"輸入數字總和為:\",total)"
      ],
      "metadata": {
        "colab": {
          "base_uri": "https://localhost:8080/"
        },
        "id": "jt_zdmPSCLAs",
        "outputId": "c3538017-f59c-48a8-e48b-3257bba65a5f"
      },
      "execution_count": null,
      "outputs": [
        {
          "output_type": "stream",
          "name": "stdout",
          "text": [
            "輸入數字(輸入0結束):12\n",
            "輸入數字(輸入0結束):321\n",
            "輸入數字(輸入0結束):13221\n",
            "輸入數字(輸入0結束):111\n",
            "輸入數字(輸入0結束):0\n",
            "輸入數字總和為: 13665\n"
          ]
        }
      ]
    },
    {
      "cell_type": "code",
      "source": [],
      "metadata": {
        "id": "xrl4y8kLCI-G"
      },
      "execution_count": null,
      "outputs": []
    },
    {
      "cell_type": "markdown",
      "source": [
        "#python\n",
        ">數學運算\n",
        ">流程控制\n",
        ">資料結構list dict tuple, set\n",
        "\n",
        "#python\n",
        ">內建工具:function(import 函式)\n",
        "\n",
        ">math.sqrt 開根號\n",
        "\n",
        ">math.random"
      ],
      "metadata": {
        "id": "rCrZLXcvF6S0"
      }
    },
    {
      "cell_type": "code",
      "source": [],
      "metadata": {
        "id": "P4oh88xYHnJ6"
      },
      "execution_count": null,
      "outputs": []
    },
    {
      "cell_type": "markdown",
      "source": [],
      "metadata": {
        "id": "SYfd6qJTHnhd"
      }
    },
    {
      "cell_type": "markdown",
      "source": [
        "#pyhon取亂數1-100\n"
      ],
      "metadata": {
        "id": "u7yPAIXlIByI"
      }
    },
    {
      "cell_type": "code",
      "source": [
        "import random\n",
        "random.randint()"
      ],
      "metadata": {
        "id": "GHRbMKrqIcoJ"
      },
      "execution_count": null,
      "outputs": []
    },
    {
      "cell_type": "markdown",
      "source": [
        "#字串型別插補 相加\n",
        "format : f , {數值轉型別變字串}"
      ],
      "metadata": {
        "id": "mknqk2DbJkVr"
      }
    }
  ]
}