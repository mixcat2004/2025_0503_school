{
 "cells": [
  {
   "cell_type": "code",
   "execution_count": null,
   "id": "705b1df8",
   "metadata": {},
   "outputs": [],
   "source": [
    "# https://www.perplexity.ai/search/f834ba4a-c32d-48c7-bfc3-36ef4d2b6d11"
   ]
  },
  {
   "cell_type": "code",
   "execution_count": 7,
   "id": "3e741305",
   "metadata": {},
   "outputs": [
    {
     "data": {
      "text/plain": [
       "[15, 25, 35, 45, 55]"
      ]
     },
     "execution_count": 7,
     "metadata": {},
     "output_type": "execute_result"
    }
   ],
   "source": [
    "#list\n",
    "scores:list = [10, 20 , 30, 40, 50]\n",
    "#scores:list = list(range(10,60,10))\n",
    "\n",
    "# scores1:list = list()\n",
    "# for score in scores:\n",
    "#     score += 5\n",
    "#     scores1.append(score)\n",
    "scores1 = [score+5 for score in scores]\n",
    "scores1"
   ]
  },
  {
   "cell_type": "code",
   "execution_count": 8,
   "id": "f3821325",
   "metadata": {},
   "outputs": [
    {
     "data": {
      "text/plain": [
       "array([15, 25, 35, 45, 55])"
      ]
     },
     "execution_count": 8,
     "metadata": {},
     "output_type": "execute_result"
    }
   ],
   "source": [
    "#numpy\n",
    "import numpy as np\n",
    "\n",
    "array = np.array([10, 20 , 30, 40, 50])\n",
    "type(array)\n",
    "array1 = array + 5\n",
    "array1\n",
    "\n",
    "\n"
   ]
  },
  {
   "cell_type": "code",
   "execution_count": 9,
   "id": "e591a2e8",
   "metadata": {},
   "outputs": [
    {
     "data": {
      "text/plain": [
       "array([20, 30, 40])"
      ]
     },
     "execution_count": 9,
     "metadata": {},
     "output_type": "execute_result"
    }
   ],
   "source": [
    "#numpy\n",
    "import numpy as np\n",
    "array = np.array([15,25,35])\n",
    "type(array)\n",
    "array1=array+5\n",
    "array1\n"
   ]
  }
 ],
 "metadata": {
  "kernelspec": {
   "display_name": "Python 3",
   "language": "python",
   "name": "python3"
  },
  "language_info": {
   "codemirror_mode": {
    "name": "ipython",
    "version": 3
   },
   "file_extension": ".py",
   "mimetype": "text/x-python",
   "name": "python",
   "nbconvert_exporter": "python",
   "pygments_lexer": "ipython3",
   "version": "3.13.2"
  }
 },
 "nbformat": 4,
 "nbformat_minor": 5
}
