{
 "cells": [
  {
   "cell_type": "code",
   "execution_count": null,
   "id": "7c126287",
   "metadata": {},
   "outputs": [],
   "source": []
  },
  {
   "cell_type": "markdown",
   "id": "4d0d72cd",
   "metadata": {},
   "source": [
    "# local edit"
   ]
  },
  {
   "cell_type": "code",
   "execution_count": null,
   "id": "900b3224",
   "metadata": {},
   "outputs": [],
   "source": []
  }
 ],
 "metadata": {
  "language_info": {
   "name": "python"
  }
 },
 "nbformat": 4,
 "nbformat_minor": 5
}
