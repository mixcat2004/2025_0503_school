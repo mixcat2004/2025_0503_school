{
 "cells": [
  {
   "cell_type": "markdown",
   "id": "1044d13e",
   "metadata": {},
   "source": [
    "#local edit from kika's nb"
   ]
  },
  {
   "cell_type": "code",
   "execution_count": null,
   "id": "f0052ff9",
   "metadata": {
    "vscode": {
     "languageId": "plaintext"
    }
   },
   "outputs": [],
   "source": [
    "print(\"hello pyhton\")\n",
    "\n"
   ]
  },
  {
   "cell_type": "code",
   "execution_count": null,
   "id": "5643f1e0",
   "metadata": {
    "vscode": {
     "languageId": "plaintext"
    }
   },
   "outputs": [],
   "source": []
  }
 ],
 "metadata": {
  "language_info": {
   "name": "python"
  }
 },
 "nbformat": 4,
 "nbformat_minor": 5
}
