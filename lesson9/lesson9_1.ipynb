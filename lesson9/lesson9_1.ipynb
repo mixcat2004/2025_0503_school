{
 "cells": [
  {
   "cell_type": "code",
   "execution_count": 3,
   "id": "6222eca7",
   "metadata": {},
   "outputs": [
    {
     "name": "stdout",
     "output_type": "stream",
     "text": [
      "王大明\n",
      "徐曉華\n",
      "正大同\n",
      "王大明\n",
      "徐曉華\n",
      "正大同\n",
      "3\n"
     ]
    }
   ],
   "source": [
    "\n",
    "#https://www.perplexity.ai/search/216f82f2-9e19-4f29-bb0e-bdbfb083b51b\n",
    "\n",
    "# 使用 with 語法開啟檔案，確保讀取完後自動關閉檔案\n",
    "\n",
    "with open(\"names.txt\", \"r\", encoding=\"utf-8\") as f:\n",
    "    content = f.read()  # 一次讀取全部內容，回傳字串\n",
    "    print(content)\n",
    "\n",
    "file = open(\"names.txt\",encoding=\"utf-8\")\n",
    "print(file.read())\n",
    "file.close()\n",
    "\n",
    "with open(\"names.txt\",encoding=\"utf-8\") as file:\n",
    "    names:list = file.readlines()\n",
    "    print(len(names))"
   ]
  }
 ],
 "metadata": {
  "kernelspec": {
   "display_name": "base",
   "language": "python",
   "name": "python3"
  },
  "language_info": {
   "codemirror_mode": {
    "name": "ipython",
    "version": 3
   },
   "file_extension": ".py",
   "mimetype": "text/x-python",
   "name": "python",
   "nbconvert_exporter": "python",
   "pygments_lexer": "ipython3",
   "version": "3.13.2"
  }
 },
 "nbformat": 4,
 "nbformat_minor": 5
}
